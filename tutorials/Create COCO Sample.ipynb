{
 "cells": [
  {
   "cell_type": "code",
   "execution_count": null,
   "id": "d2edb365",
   "metadata": {},
   "outputs": [],
   "source": [
    "import pandas as pd\n",
    "import json\n",
    "import fiftyone.zoo as foz\n",
    "import os\n",
    "from pathlib import Path\n",
    "import shutil"
   ]
  },
  {
   "cell_type": "code",
   "execution_count": null,
   "id": "2d10d791",
   "metadata": {},
   "outputs": [],
   "source": [
    "num_samples = 10"
   ]
  },
  {
   "cell_type": "code",
   "execution_count": null,
   "id": "749bfa98",
   "metadata": {},
   "outputs": [],
   "source": [
    "coco_train = foz.load_zoo_dataset(\"coco-2017\", split=\"train\", max_samples=num_samples)"
   ]
  },
  {
   "cell_type": "code",
   "execution_count": null,
   "id": "3cd074f5",
   "metadata": {},
   "outputs": [],
   "source": [
    "coco_test = foz.load_zoo_dataset(\"coco-2017\", split=\"test\", max_samples=num_samples)"
   ]
  },
  {
   "cell_type": "code",
   "execution_count": null,
   "id": "c4bbc5d1",
   "metadata": {},
   "outputs": [],
   "source": [
    "coco_val = foz.load_zoo_dataset(\"coco-2017\", split=\"validation\", max_samples=num_samples)"
   ]
  },
  {
   "cell_type": "code",
   "execution_count": null,
   "id": "b515a773",
   "metadata": {},
   "outputs": [],
   "source": [
    "def delete_private(d):\n",
    "    if isinstance(d, list):\n",
    "        for elem in d:\n",
    "            delete_private(elem)\n",
    "        return\n",
    "    if not isinstance(d, dict):\n",
    "        return\n",
    "    for key in [k for k in list(d.keys()) if k.startswith('_')]:\n",
    "        del d[key]\n",
    "    for key in [k for k, v in list(d.items()) if isinstance(v, dict) or isinstance(v, list)]:\n",
    "        delete_private(d[key])"
   ]
  },
  {
   "cell_type": "code",
   "execution_count": null,
   "id": "90ba667f",
   "metadata": {},
   "outputs": [],
   "source": [
    "records = []\n",
    "for ds in [coco_train, coco_test, coco_val]:\n",
    "    for s in ds:\n",
    "        d = s.to_dict(False, False)\n",
    "        delete_private(d)\n",
    "        records.append(d)"
   ]
  },
  {
   "cell_type": "markdown",
   "id": "5351733d",
   "metadata": {},
   "source": [
    "### Copy images and fix 'tags'"
   ]
  },
  {
   "cell_type": "code",
   "execution_count": null,
   "id": "f43f3c6d",
   "metadata": {},
   "outputs": [],
   "source": [
    "img_dir = Path('./images')\n",
    "try:\n",
    "    os.mkdir(img_dir)\n",
    "except FileExistsError:\n",
    "    pass"
   ]
  },
  {
   "cell_type": "code",
   "execution_count": null,
   "id": "0e84ea99",
   "metadata": {},
   "outputs": [],
   "source": [
    "for r in records:\n",
    "    path = Path(r['filepath'])\n",
    "    new_path = img_dir / path.name\n",
    "    shutil.copy(path, new_path)\n",
    "    r['filepath'] = str(new_path)\n",
    "    r['tag'] = r['tags'][0]\n",
    "    del r['tags']"
   ]
  },
  {
   "cell_type": "code",
   "execution_count": null,
   "id": "5a74e2c2",
   "metadata": {},
   "outputs": [],
   "source": [
    "with open('coco-records.json', 'w', encoding='utf-8') as f:\n",
    "    json.dump(records, f, ensure_ascii=False, indent=4)"
   ]
  },
  {
   "cell_type": "code",
   "execution_count": null,
   "id": "d4ef94a0",
   "metadata": {},
   "outputs": [],
   "source": []
  }
 ],
 "metadata": {
  "kernelspec": {
   "display_name": "Python 3 (ipykernel)",
   "language": "python",
   "name": "python3"
  },
  "language_info": {
   "codemirror_mode": {
    "name": "ipython",
    "version": 3
   },
   "file_extension": ".py",
   "mimetype": "text/x-python",
   "name": "python",
   "nbconvert_exporter": "python",
   "pygments_lexer": "ipython3",
   "version": "3.9.16"
  }
 },
 "nbformat": 4,
 "nbformat_minor": 5
}
