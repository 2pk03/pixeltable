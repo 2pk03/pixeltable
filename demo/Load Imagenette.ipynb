{
 "cells": [
  {
   "cell_type": "code",
   "execution_count": null,
   "id": "9c9ad7c5",
   "metadata": {},
   "outputs": [],
   "source": [
    "!pwd"
   ]
  },
  {
   "cell_type": "code",
   "execution_count": null,
   "id": "6405a540",
   "metadata": {},
   "outputs": [],
   "source": [
    "import sys, glob\n",
    "import pandas as pd\n",
    "import numpy as np\n",
    "sys.path.append('/home/marcel/pixeltable')"
   ]
  },
  {
   "cell_type": "code",
   "execution_count": null,
   "id": "60dc7ec6",
   "metadata": {},
   "outputs": [],
   "source": [
    "import pixeltable as pt\n",
    "from pixeltable import catalog\n",
    "from pixeltable.type_system import ImageType, StringType, IntType\n",
    "%load_ext autoreload\n",
    "%autoreload 2"
   ]
  },
  {
   "cell_type": "code",
   "execution_count": null,
   "id": "e541078e",
   "metadata": {},
   "outputs": [],
   "source": [
    "cl = pt.Client()"
   ]
  },
  {
   "cell_type": "code",
   "execution_count": null,
   "id": "bce50154",
   "metadata": {},
   "outputs": [],
   "source": [
    "{os.getcwd()}try:\n",
    "    db = cl.get_db('imagenette')\n",
    "except:\n",
    "    db = cl.create_db('imagenette')\n",
    "\n",
    "db.drop_table('data', ignore_errors=True)\n",
    "t = db.create_table('data', [\n",
    "    catalog.Column('img', ImageType(), nullable=False),\n",
    "    catalog.Column('category', StringType(), nullable=False),\n",
    "    catalog.Column('split', StringType(), nullable=False),\n",
    "])"
   ]
  },
  {
   "cell_type": "code",
   "execution_count": null,
   "id": "16f3782e",
   "metadata": {},
   "outputs": [],
   "source": [
    "!ls -F /home/marcel/imagenette2-160"
   ]
  },
  {
   "cell_type": "code",
   "execution_count": null,
   "id": "a429932d",
   "metadata": {},
   "outputs": [],
   "source": [
    "!ls -F /home/marcel/imagenette2-160/train"
   ]
  },
  {
   "cell_type": "code",
   "execution_count": null,
   "id": "c3da183c",
   "metadata": {},
   "outputs": [],
   "source": [
    "!ls -lh /home/marcel/imagenette2-160/train/n01440764 | head"
   ]
  },
  {
   "cell_type": "code",
   "execution_count": null,
   "id": "356f3c17",
   "metadata": {},
   "outputs": [],
   "source": [
    "from pathlib import Path\n",
    "import numpy as np\n",
    "import shutil\n",
    "import glob\n",
    "\n",
    "root = '/home/marcel/imagenette2-160'\n",
    "rows = []\n",
    "for split in ['train', 'val']:\n",
    "    prefix = Path(root) / split\n",
    "    for category in [p for p in prefix.iterdir() if p.is_dir()]:\n",
    "        img_file_names = np.array([s for s in category.iterdir()])\n",
    "        # row: (<absolute path to image file>, <category>, <split>)\n",
    "        rows.extend([(str(prefix / file_name), category.name, split) for file_name in img_file_names])\n",
    "\n",
    "df = pd.DataFrame.from_records(rows, columns=['img', 'category', 'split'])"
   ]
  },
  {
   "cell_type": "code",
   "execution_count": null,
   "id": "8788e6ae",
   "metadata": {},
   "outputs": [],
   "source": [
    "df"
   ]
  },
  {
   "cell_type": "code",
   "execution_count": null,
   "id": "869bb33c",
   "metadata": {},
   "outputs": [],
   "source": [
    "t.insert_pandas(df)"
   ]
  },
  {
   "cell_type": "code",
   "execution_count": null,
   "id": "15cf5917",
   "metadata": {},
   "outputs": [],
   "source": [
    "t.count()"
   ]
  },
  {
   "cell_type": "code",
   "execution_count": null,
   "id": "cd8b9108",
   "metadata": {
    "scrolled": true
   },
   "outputs": [],
   "source": [
    "t.show()"
   ]
  }
 ],
 "metadata": {
  "kernelspec": {
   "display_name": "Python 3 (ipykernel)",
   "language": "python",
   "name": "python3"
  },
  "language_info": {
   "codemirror_mode": {
    "name": "ipython",
    "version": 3
   },
   "file_extension": ".py",
   "mimetype": "text/x-python",
   "name": "python",
   "nbconvert_exporter": "python",
   "pygments_lexer": "ipython3",
   "version": "3.9.16"
  }
 },
 "nbformat": 4,
 "nbformat_minor": 5
}
