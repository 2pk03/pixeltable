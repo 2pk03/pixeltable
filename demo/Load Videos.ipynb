{
 "cells": [
  {
   "cell_type": "markdown",
   "id": "f0e669a3",
   "metadata": {},
   "source": [
    "# Load Video Frames into Pixeltable"
   ]
  },
  {
   "cell_type": "code",
   "execution_count": null,
   "id": "6405a540",
   "metadata": {},
   "outputs": [],
   "source": [
    "import sys, glob\n",
    "import pandas as pd\n",
    "import numpy as np\n",
    "sys.path.append('/home/marcel/pixeltable')"
   ]
  },
  {
   "cell_type": "code",
   "execution_count": null,
   "id": "60dc7ec6",
   "metadata": {},
   "outputs": [],
   "source": [
    "import pixeltable as pt\n",
    "from pixeltable import catalog\n",
    "from pixeltable.type_system import ImageType, StringType, IntType\n",
    "%load_ext autoreload\n",
    "%autoreload 2"
   ]
  },
  {
   "cell_type": "code",
   "execution_count": null,
   "id": "8df3cc6e",
   "metadata": {},
   "outputs": [],
   "source": [
    "cl = pt.Client()\n",
    "try:\n",
    "    db = cl.get_db('videos')\n",
    "except:\n",
    "    db = cl.create_db('videos')"
   ]
  },
  {
   "cell_type": "markdown",
   "id": "f130d7f9",
   "metadata": {},
   "source": [
    "The frames will be stored in a table `data`. Initially it only contains the path to the video file, the frame, and the frame sequence number (within the video)."
   ]
  },
  {
   "cell_type": "code",
   "execution_count": null,
   "id": "6ab4fc33",
   "metadata": {},
   "outputs": [],
   "source": [
    "db.drop_table('data', ignore_errors=True)\n",
    "t = db.create_table('data', [\n",
    "    catalog.Column('video_file', StringType(), nullable=False),\n",
    "    catalog.Column('frame', ImageType(), nullable=False, indexed=True),\n",
    "    catalog.Column('frame_idx', IntType(), nullable=False),\n",
    "])"
   ]
  },
  {
   "cell_type": "markdown",
   "id": "65630e16",
   "metadata": {},
   "source": [
    "This demo uses 3 short videos"
   ]
  },
  {
   "cell_type": "code",
   "execution_count": null,
   "id": "8969c301",
   "metadata": {},
   "outputs": [],
   "source": [
    "video_filepaths = glob.glob(f'/home/marcel/pixeltable/**/videos/*.mp4', recursive=True)\n",
    "video_filepaths"
   ]
  },
  {
   "cell_type": "code",
   "execution_count": null,
   "id": "ae42d4f1",
   "metadata": {},
   "outputs": [],
   "source": [
    "df = pd.DataFrame({'video_file': video_filepaths})"
   ]
  },
  {
   "cell_type": "markdown",
   "id": "2b3b51d4",
   "metadata": {},
   "source": [
    "We \"load\" the data by supplying the file paths for the video files.\n",
    "- The `video_column` argument instructs Pixeltable to treat that data as video files from which to extract frames.\n",
    "- Each input row, corresponding to one video, is expanded into one row per frame (subject to the requested frame rate, in this case 1 fps).\n",
    "- Each frame is extract to a JPEG file that is stored in the Pixeltable home directory.\n",
    "- The columns `frame` and `frame_idx` receive the frame file path and frame sequence number, respectively."
   ]
  },
  {
   "cell_type": "code",
   "execution_count": null,
   "id": "aad2bf10",
   "metadata": {},
   "outputs": [],
   "source": [
    "t.insert_pandas(df, video_column='video_file', frame_column='frame', frame_idx_column='frame_idx', fps=1)"
   ]
  },
  {
   "cell_type": "markdown",
   "id": "123f78ee",
   "metadata": {},
   "source": [
    "We ended up with 67 frames."
   ]
  },
  {
   "cell_type": "code",
   "execution_count": null,
   "id": "3831f0e8",
   "metadata": {},
   "outputs": [],
   "source": [
    "t.count()"
   ]
  },
  {
   "cell_type": "markdown",
   "id": "a3abba43",
   "metadata": {},
   "source": [
    "Let's look at the data"
   ]
  },
  {
   "cell_type": "code",
   "execution_count": null,
   "id": "93fd844d",
   "metadata": {
    "scrolled": false
   },
   "outputs": [],
   "source": [
    "t[t.frame.matches('street')].show(10)"
   ]
  },
  {
   "cell_type": "code",
   "execution_count": null,
   "id": "79431034",
   "metadata": {},
   "outputs": [],
   "source": [
    "t[t.frame, t.frame.width, t.frame.height].show()"
   ]
  },
  {
   "cell_type": "code",
   "execution_count": null,
   "id": "b891e168",
   "metadata": {},
   "outputs": [],
   "source": []
  }
 ],
 "metadata": {
  "kernelspec": {
   "display_name": "Python 3 (ipykernel)",
   "language": "python",
   "name": "python3"
  },
  "language_info": {
   "codemirror_mode": {
    "name": "ipython",
    "version": 3
   },
   "file_extension": ".py",
   "mimetype": "text/x-python",
   "name": "python",
   "nbconvert_exporter": "python",
   "pygments_lexer": "ipython3",
   "version": "3.9.16"
  }
 },
 "nbformat": 4,
 "nbformat_minor": 5
}
