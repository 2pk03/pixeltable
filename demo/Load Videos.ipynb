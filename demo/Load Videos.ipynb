{
 "cells": [
  {
   "cell_type": "code",
   "execution_count": null,
   "id": "9c9ad7c5",
   "metadata": {},
   "outputs": [],
   "source": [
    "!pwd"
   ]
  },
  {
   "cell_type": "code",
   "execution_count": null,
   "id": "6405a540",
   "metadata": {},
   "outputs": [],
   "source": [
    "import sys, glob\n",
    "import pandas as pd\n",
    "import numpy as np\n",
    "sys.path.append('/home/marcel/pixeltable')"
   ]
  },
  {
   "cell_type": "code",
   "execution_count": null,
   "id": "60dc7ec6",
   "metadata": {},
   "outputs": [],
   "source": [
    "import pixeltable as pt\n",
    "from pixeltable import catalog\n",
    "from pixeltable.type_system import ImageType, StringType, IntType\n",
    "%load_ext autoreload\n",
    "%autoreload 2"
   ]
  },
  {
   "cell_type": "code",
   "execution_count": null,
   "id": "6ab4fc33",
   "metadata": {},
   "outputs": [],
   "source": [
    "try:\n",
    "    db = cl.get_db('videos')\n",
    "except:\n",
    "    db = cl.create_db('videos')\n",
    "\n",
    "db.drop_table('data', ignore_errors=True)\n",
    "t = db.create_table('data', [\n",
    "    catalog.Column('video_file', StringType(), nullable=False),\n",
    "    catalog.Column('frame', ImageType(), nullable=False),\n",
    "    catalog.Column('frame_idx', IntType(), nullable=False),\n",
    "])"
   ]
  },
  {
   "cell_type": "code",
   "execution_count": null,
   "id": "ae42d4f1",
   "metadata": {},
   "outputs": [],
   "source": [
    "video_filepaths = glob.glob(f'/home/marcel/pixeltable/**/videos/*.mp4', recursive=True)\n",
    "df = pd.DataFrame({'video_file': video_filepaths})"
   ]
  },
  {
   "cell_type": "code",
   "execution_count": null,
   "id": "aad2bf10",
   "metadata": {},
   "outputs": [],
   "source": [
    "t.insert_pandas(df, video_column='video_file', frame_column='frame', frame_idx_column='frame_idx', fps=1)"
   ]
  },
  {
   "cell_type": "code",
   "execution_count": null,
   "id": "79431034",
   "metadata": {},
   "outputs": [],
   "source": [
    "t[t.frame, t.frame.width, t.frame.height].show()"
   ]
  }
 ],
 "metadata": {
  "kernelspec": {
   "display_name": "Python 3 (ipykernel)",
   "language": "python",
   "name": "python3"
  },
  "language_info": {
   "codemirror_mode": {
    "name": "ipython",
    "version": 3
   },
   "file_extension": ".py",
   "mimetype": "text/x-python",
   "name": "python",
   "nbconvert_exporter": "python",
   "pygments_lexer": "ipython3",
   "version": "3.9.16"
  }
 },
 "nbformat": 4,
 "nbformat_minor": 5
}
