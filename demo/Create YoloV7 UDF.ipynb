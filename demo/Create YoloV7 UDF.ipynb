{
 "cells": [
  {
   "cell_type": "markdown",
   "id": "195017d3",
   "metadata": {},
   "source": [
    "# Creating a UDF for the YoloV7 Model\n",
    "\n",
    "This adapts the object detection script in https://github.com/RizwanMunawar/yolov7-object-tracking for Pixeltable.\n",
    "\n",
    "This script needs to be run in the environment created for that repo. The UDF is stored in a database `functions` and can subsequently be used in queries and computed columns without having access to the modules used in the script."
   ]
  },
  {
   "cell_type": "code",
   "execution_count": null,
   "id": "a30ab3d3",
   "metadata": {},
   "outputs": [],
   "source": [
    "import numpy as np\n",
    "import torch\n",
    "import torchvision\n",
    "\n",
    "import models, utils, PIL, thop\n",
    "from models.experimental import attempt_load\n",
    "from utils.torch_utils import select_device\n",
    "from utils.general import non_max_suppression, scale_coords\n",
    "from utils.datasets import letterbox\n",
    "%load_ext autoreload\n",
    "%autoreload 2"
   ]
  },
  {
   "cell_type": "code",
   "execution_count": null,
   "id": "28de1794",
   "metadata": {},
   "outputs": [],
   "source": [
    "weights_file_name = 'yolov7.pt'\n",
    "device = select_device('')\n",
    "\n",
    "model = attempt_load(weights_file_name, map_location=device)  # load FP32 model\n",
    "stride = int(model.stride.max())"
   ]
  },
  {
   "cell_type": "markdown",
   "id": "2f4476c0",
   "metadata": {},
   "source": [
    "**`detect()` takes a PIL.Image and returns a numpy array of detections**\n",
    "\n",
    "Each detection is a numpy array of 6 floats, containing\n",
    "* the bounding box (as xyxy)\n",
    "* the confidence\n",
    "* the class"
   ]
  },
  {
   "cell_type": "code",
   "execution_count": null,
   "id": "c097b90f",
   "metadata": {},
   "outputs": [],
   "source": [
    "def detect(img):\n",
    "    expected_img_size = 640\n",
    "    img_array = np.array(img)\n",
    "    orig_shape = img_array.shape\n",
    "    img_array = letterbox(img_array, expected_img_size, stride=stride)[0]\n",
    "    img_array = img_array[:, :, ::-1].transpose(2, 0, 1)  # BGR to RGB, channels go first\n",
    "    img_array = np.ascontiguousarray(img_array)\n",
    "    img_tensor = torch.from_numpy(img_array).to(device).float()\n",
    "    img_tensor /= 255.0\n",
    "    img_tensor = img_tensor.unsqueeze(0)\n",
    "\n",
    "    model_output = model(img_tensor)\n",
    "    pred = model_output[0]\n",
    "    pred = non_max_suppression(pred)\n",
    "    detections = pred[0]\n",
    "    detections[:, :4] = scale_coords(img_tensor.shape[2:], detections[:, :4], orig_shape).round()\n",
    "    return detections.numpy(force=True)"
   ]
  },
  {
   "cell_type": "markdown",
   "id": "8f7d2d1f",
   "metadata": {},
   "source": [
    "Sanity check"
   ]
  },
  {
   "cell_type": "code",
   "execution_count": null,
   "id": "b35827a9",
   "metadata": {},
   "outputs": [],
   "source": [
    "img_file = '/home/marcel/.pixeltable/images/frame_1_0_0_00001.jpg'\n",
    "#img_file = '/home/marcel/pixeltable/pixeltable/tests/data/imagenette2-160/n03888257_50622.JPEG'\n",
    "\n",
    "img = PIL.Image.open(img_file)\n",
    "\n",
    "print(img.size)\n",
    "display(img)"
   ]
  },
  {
   "cell_type": "code",
   "execution_count": null,
   "id": "964dbf70",
   "metadata": {},
   "outputs": [],
   "source": [
    "detect(img)"
   ]
  },
  {
   "cell_type": "markdown",
   "id": "352fae86",
   "metadata": {},
   "source": [
    "We create database `functions` (or get handle to it)"
   ]
  },
  {
   "cell_type": "code",
   "execution_count": null,
   "id": "18b31160",
   "metadata": {},
   "outputs": [],
   "source": [
    "import sys\n",
    "sys.path.append('/home/marcel/pixeltable')\n",
    "\n",
    "import pixeltable as pt\n",
    "from pixeltable.function import Function, FunctionRegistry\n",
    "from pixeltable.type_system import ArrayType, ImageType, ColumnType, JsonType\n",
    "\n",
    "cl = pt.Client()\n",
    "try:\n",
    "    db = cl.get_db('functions')\n",
    "except pt.UnknownEntityError:\n",
    "    db = cl.create_db('functions')"
   ]
  },
  {
   "cell_type": "markdown",
   "id": "2c9f8d64",
   "metadata": {},
   "source": [
    "We then store `detect()` as a named UDF 'yolov7' in the db"
   ]
  },
  {
   "cell_type": "code",
   "execution_count": null,
   "id": "49373833",
   "metadata": {},
   "outputs": [],
   "source": [
    "FunctionRegistry.register_pickled_module(models)\n",
    "FunctionRegistry.register_pickled_module(utils)\n",
    "FunctionRegistry.register_pickled_module(thop)"
   ]
  },
  {
   "cell_type": "code",
   "execution_count": null,
   "id": "004af04d",
   "metadata": {},
   "outputs": [],
   "source": [
    "yolov7_udf = Function(ArrayType((None, 6), dtype=ColumnType.Type.FLOAT), [ImageType()], eval_fn=detect)\n",
    "db.drop_function('yolov7')\n",
    "db.create_function('yolov7', yolov7_udf)"
   ]
  },
  {
   "cell_type": "markdown",
   "id": "14f36d45",
   "metadata": {},
   "source": [
    "Let's verify that it worked.\n",
    "\n",
    "We're starting with a fresh client to make sure we're not simply referencing cached data."
   ]
  },
  {
   "cell_type": "code",
   "execution_count": null,
   "id": "269ffe77",
   "metadata": {},
   "outputs": [],
   "source": [
    "cl = pt.Client()\n",
    "db = cl.get_db('functions')\n",
    "yolov7 = db.load_function('yolov7')"
   ]
  },
  {
   "cell_type": "code",
   "execution_count": null,
   "id": "0ef5e5f0",
   "metadata": {},
   "outputs": [],
   "source": [
    "yolov7.eval_fn(img)"
   ]
  },
  {
   "cell_type": "code",
   "execution_count": null,
   "id": "59611cb7",
   "metadata": {},
   "outputs": [],
   "source": []
  }
 ],
 "metadata": {
  "kernelspec": {
   "display_name": "Python 3 (ipykernel)",
   "language": "python",
   "name": "python3"
  },
  "language_info": {
   "codemirror_mode": {
    "name": "ipython",
    "version": 3
   },
   "file_extension": ".py",
   "mimetype": "text/x-python",
   "name": "python",
   "nbconvert_exporter": "python",
   "pygments_lexer": "ipython3",
   "version": "3.9.16"
  }
 },
 "nbformat": 4,
 "nbformat_minor": 5
}
