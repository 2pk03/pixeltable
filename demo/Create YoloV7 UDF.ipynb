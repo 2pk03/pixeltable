{
 "cells": [
  {
   "cell_type": "markdown",
   "id": "195017d3",
   "metadata": {},
   "source": [
    "# Creating a UDF for the YoloV7 Model\n",
    "\n",
    "This adapts the object detection script in https://github.com/RizwanMunawar/yolov7-object-tracking for Pixeltable.\n",
    "\n",
    "This script needs to be run in the environment created for that repo. The UDF is stored in a database `functions` and can subsequently be used in queries and computed columns without having access to the modules used in the script."
   ]
  },
  {
   "cell_type": "code",
   "execution_count": null,
   "id": "a30ab3d3",
   "metadata": {},
   "outputs": [],
   "source": [
    "import numpy as np\n",
    "import torch\n",
    "import torchvision\n",
    "import cv2\n",
    "from collections import defaultdict\n",
    "import os\n",
    "\n",
    "import models, utils, PIL, thop, filterpy\n",
    "from models.experimental import attempt_load\n",
    "from utils.torch_utils import select_device, TracedModel\n",
    "from utils.general import non_max_suppression, scale_coords\n",
    "from utils.datasets import letterbox\n",
    "from utils.download_weights import download\n",
    "import sort_track as sort\n",
    "%load_ext autoreload\n",
    "%autoreload 2"
   ]
  },
  {
   "cell_type": "code",
   "execution_count": null,
   "id": "28de1794",
   "metadata": {},
   "outputs": [],
   "source": [
    "weights_file_name = 'yolov7.pt'\n",
    "if not os.path.exists(weights_file_name):\n",
    "    download('./')\n",
    "\n",
    "device = select_device('')\n",
    "\n",
    "model = attempt_load(weights_file_name, map_location=device)  # load FP32 model\n",
    "stride = int(model.stride.max())"
   ]
  },
  {
   "cell_type": "markdown",
   "id": "2f4476c0",
   "metadata": {},
   "source": [
    "**`detect()` takes a PIL.Image and returns a numpy array of detections**\n",
    "\n",
    "Each detection is a numpy array of 6 floats, containing\n",
    "* the bounding box (as xyxy)\n",
    "* the confidence\n",
    "* the class"
   ]
  },
  {
   "cell_type": "code",
   "execution_count": null,
   "id": "c097b90f",
   "metadata": {},
   "outputs": [],
   "source": [
    "def detect(img):\n",
    "    expected_img_size = 640\n",
    "    img_array = np.array(img)\n",
    "    img_array = cv2.cvtColor(img_array, cv2.COLOR_RGB2BGR)\n",
    "    orig_shape = img_array.shape\n",
    "    img_array = letterbox(img_array, expected_img_size, stride=stride)[0]\n",
    "    img_array = img_array[:, :, ::-1].transpose(2, 0, 1)  # BGR to RGB, channels go first\n",
    "    img_array = np.ascontiguousarray(img_array)\n",
    "    img_tensor = torch.from_numpy(img_array).to(device).float()\n",
    "    img_tensor /= 255.0\n",
    "    img_tensor = img_tensor.unsqueeze(0)\n",
    "\n",
    "    with torch.no_grad():\n",
    "        model_output = model(img_tensor)\n",
    "        pred = model_output[0]\n",
    "        pred = non_max_suppression(pred)\n",
    "        detections = pred[0]\n",
    "        detections[:, :4] = scale_coords(img_tensor.shape[2:], detections[:, :4], orig_shape).round()\n",
    "        return detections.numpy(force=True)"
   ]
  },
  {
   "cell_type": "markdown",
   "id": "8f7d2d1f",
   "metadata": {},
   "source": [
    "Sanity check"
   ]
  },
  {
   "cell_type": "code",
   "execution_count": null,
   "id": "b35827a9",
   "metadata": {},
   "outputs": [],
   "source": [
    "#img_file = '/home/marcel/.pixeltable/images/frame_1_0_0_00001.jpg'\n",
    "img_file = '/home/marcel/pixeltable/pixeltable/tests/data/imagenette2-160/n03888257_50622.JPEG'\n",
    "\n",
    "img = PIL.Image.open(img_file)\n",
    "\n",
    "print(img.size)\n",
    "display(img)"
   ]
  },
  {
   "cell_type": "code",
   "execution_count": null,
   "id": "964dbf70",
   "metadata": {},
   "outputs": [],
   "source": [
    "detect(img)"
   ]
  },
  {
   "cell_type": "markdown",
   "id": "352fae86",
   "metadata": {},
   "source": [
    "We create database `functions` (or get handle to it)"
   ]
  },
  {
   "cell_type": "code",
   "execution_count": null,
   "id": "18b31160",
   "metadata": {},
   "outputs": [],
   "source": [
    "import sys\n",
    "sys.path.append('/home/marcel/pixeltable')\n",
    "\n",
    "import pixeltable as pt\n",
    "from pixeltable.function import Function, FunctionRegistry\n",
    "from pixeltable.type_system import ArrayType, ImageType, ColumnType, JsonType\n",
    "\n",
    "cl = pt.Client()\n",
    "try:\n",
    "    db = cl.get_db('functions')\n",
    "except pt.UnknownEntityError:\n",
    "    db = cl.create_db('functions')"
   ]
  },
  {
   "cell_type": "markdown",
   "id": "2c9f8d64",
   "metadata": {},
   "source": [
    "We then store `detect()` as a named UDF 'yolov7' in the db"
   ]
  },
  {
   "cell_type": "code",
   "execution_count": null,
   "id": "49373833",
   "metadata": {},
   "outputs": [],
   "source": [
    "from cloudpickle import register_pickle_by_value\n",
    "register_pickle_by_value(models)\n",
    "register_pickle_by_value(utils)\n",
    "register_pickle_by_value(thop)\n",
    "register_pickle_by_value(sort)\n",
    "register_pickle_by_value(filterpy)"
   ]
  },
  {
   "cell_type": "code",
   "execution_count": null,
   "id": "d229d94f",
   "metadata": {},
   "outputs": [],
   "source": [
    "yolov7_udf = Function(\n",
    "    ArrayType((None, 6), dtype=ColumnType.Type.FLOAT), [ImageType()], eval_fn=detect)"
   ]
  },
  {
   "cell_type": "code",
   "execution_count": null,
   "id": "004af04d",
   "metadata": {
    "scrolled": true
   },
   "outputs": [],
   "source": [
    "try:\n",
    "    db.create_function('yolov7', yolov7_udf)\n",
    "except:\n",
    "    db.update_function('yolov7', yolov7_udf)"
   ]
  },
  {
   "cell_type": "markdown",
   "id": "ef2ff1f8",
   "metadata": {},
   "source": [
    "# Tracking\n",
    "\n",
    "Object tracking involves assigning the detections in a frame object IDs based on what was detected in previous frames, and can be easily expressed as a windowed aggregate function."
   ]
  },
  {
   "cell_type": "code",
   "execution_count": null,
   "id": "93dab20a",
   "metadata": {},
   "outputs": [],
   "source": [
    "class SortTracker:\n",
    "    def __init__(self):\n",
    "        self.current_id = 0\n",
    "        self.tracker = sort.Sort(self.next_id, max_age=5, min_hits=2, iou_threshold=0.2)\n",
    "    @classmethod\n",
    "    def make_instance(cls):\n",
    "        return cls()\n",
    "    def next_id(self):\n",
    "        self.current_id += 1\n",
    "        return self.current_id\n",
    "    def update(self, detections):\n",
    "        self.tracker.update(detections)\n",
    "    def value(self):\n",
    "        # the most recent value is the last recorded bbox\n",
    "        #return [np.hstack((track.bbox_history[-1][:-1], [track.id])) for track in self.tracker.getTrackers()]\n",
    "        return [\n",
    "            {\n",
    "                'id': track.id,\n",
    "                'bbox': track.bbox_history[-1][:4].astype(int).tolist(),\n",
    "                'conf': track.bbox_history[-1][4].item(),  # make sure to return Python types\n",
    "                'class': track.bbox_history[-1][5].item(),\n",
    "            }\n",
    "            for track in self.tracker.getTrackers()\n",
    "        ]"
   ]
  },
  {
   "cell_type": "code",
   "execution_count": null,
   "id": "3776ecd0",
   "metadata": {},
   "outputs": [],
   "source": [
    "sort_track_udf = Function(\n",
    "    JsonType(),\n",
    "    [ArrayType((None, 6), dtype=ColumnType.Type.FLOAT)],\n",
    "    init_fn=SortTracker.make_instance, update_fn=SortTracker.update, value_fn=SortTracker.value)"
   ]
  },
  {
   "cell_type": "code",
   "execution_count": null,
   "id": "64dcb9dc",
   "metadata": {},
   "outputs": [],
   "source": [
    "try:\n",
    "    db.create_function('sort_track', sort_track_udf)\n",
    "except:\n",
    "    db.update_function('sort_track', sort_track_udf)"
   ]
  },
  {
   "cell_type": "markdown",
   "id": "23b3c557",
   "metadata": {},
   "source": [
    "Let's verify that it worked.\n",
    "\n",
    "We're starting with a fresh client to make sure we're not simply referencing cached data."
   ]
  },
  {
   "cell_type": "code",
   "execution_count": null,
   "id": "16326c49",
   "metadata": {},
   "outputs": [],
   "source": [
    "cl2 = pt.Client()\n",
    "db2 = cl.get_db('functions')\n",
    "yolov7 = db.get_function('yolov7')\n",
    "sort_track = db.get_function('sort_track')"
   ]
  },
  {
   "cell_type": "code",
   "execution_count": null,
   "id": "eea5cb0f",
   "metadata": {},
   "outputs": [],
   "source": [
    "detection = yolov7.eval_fn(img)\n",
    "detection[:, :4]"
   ]
  },
  {
   "cell_type": "code",
   "execution_count": null,
   "id": "2e1e3020",
   "metadata": {},
   "outputs": [],
   "source": [
    "state = sort_track.init_fn()\n",
    "sort_track.update_fn(state, detection)\n",
    "track_info = sort_track.value_fn(state)"
   ]
  },
  {
   "cell_type": "code",
   "execution_count": null,
   "id": "5df142e8",
   "metadata": {},
   "outputs": [],
   "source": [
    "track_info"
   ]
  },
  {
   "cell_type": "markdown",
   "id": "98484dc6",
   "metadata": {},
   "source": [
    "# Visualization\n",
    "\n",
    "One way of visualizing the output of the tracking algorithm is by drawing a line to track the bounding boxes of identified objects over time. This is again easily expressed as a windowed aggregate function, which can keep track of the objects and their centroids over time."
   ]
  },
  {
   "cell_type": "code",
   "execution_count": null,
   "id": "0988fde2",
   "metadata": {},
   "outputs": [],
   "source": [
    "class TrackingViz:\n",
    "    def __init__(self):\n",
    "        self.centroid_history = defaultdict(list)  # id -> list of centroids                                                                                                                                                             \n",
    "        self.viz = None  # last image with overlayed visualizations                                                                                                                                                                      \n",
    "\n",
    "    @classmethod\n",
    "    def make_instance(cls):\n",
    "        return cls()\n",
    "\n",
    "    def update(self, img, bboxes, ids=None):\n",
    "        assert len(bboxes) == len(ids)\n",
    "        for i in range(len(bboxes)):\n",
    "            id, bbox = ids[i], bboxes[i]\n",
    "            centroid = int((bbox[0] + bbox[2]) // 2), int((bbox[1] + bbox[3]) // 2)\n",
    "            self.centroid_history[id].append(centroid)\n",
    "\n",
    "        # create image with visualizations                                                                                                                                                                                               \n",
    "        self.viz = np.array(img)\n",
    "        # draw per-object track (straight lines between consecutive centroids)                                                                                                                                                           \n",
    "        for centroids in self.centroid_history.values():\n",
    "            for i in range(len(centroids) - 1):\n",
    "                cv2.line(self.viz, centroids[i], centroids[i + 1], (255, 0, 0), thickness=2)\n",
    "\n",
    "        for i, box in enumerate(bboxes):\n",
    "            x1, y1, x2, y2 = [int(i) for i in box]\n",
    "            id = int(ids[i]) if ids is not None else 0\n",
    "            #label = str(id) + \":\"+ names[cat]                                                                                                                                                                                           \n",
    "            label = str(id)\n",
    "            (w, h), _ = cv2.getTextSize(label, cv2.FONT_HERSHEY_SIMPLEX, 0.6, 1)\n",
    "            # bounding box\n",
    "            cv2.rectangle(self.viz, (x1, y1), (x2, y2), (255,0,20), 2)\n",
    "            # label rectangle                                                                                                                                                                                                            \n",
    "            cv2.rectangle(self.viz, (x1, y1 - 20), (x1 + w, y1), (255,144,30), -1)\n",
    "            # label\n",
    "            cv2.putText(self.viz, label, (x1, y1 - 5),cv2.FONT_HERSHEY_SIMPLEX, 0.6, [255, 255, 255], 1)\n",
    "\n",
    "    def value(self):\n",
    "        return PIL.Image.fromarray(self.viz)"
   ]
  },
  {
   "cell_type": "code",
   "execution_count": null,
   "id": "bc076fee",
   "metadata": {},
   "outputs": [],
   "source": [
    "track_viz_udf = Function(\n",
    "    # signature: (image, bounding_boxes, ids) -> image\n",
    "    ImageType(), [ImageType(), JsonType(), JsonType()],\n",
    "    init_fn=TrackingViz.make_instance, update_fn=TrackingViz.update, value_fn=TrackingViz.value)"
   ]
  },
  {
   "cell_type": "code",
   "execution_count": null,
   "id": "a3b591f2",
   "metadata": {},
   "outputs": [],
   "source": [
    "try:\n",
    "    db.create_function('track_viz', track_viz_udf)\n",
    "except:\n",
    "    db.update_function('track_viz', track_viz_udf)"
   ]
  },
  {
   "cell_type": "markdown",
   "id": "eb621fee",
   "metadata": {},
   "source": [
    "Let's see what that looks like:"
   ]
  },
  {
   "cell_type": "code",
   "execution_count": null,
   "id": "56ce4469",
   "metadata": {},
   "outputs": [],
   "source": [
    "viz_state = track_viz_udf.init_fn()\n",
    "track_viz_udf.update_fn(viz_state, img, detection[:, :4].tolist(), [1, 2])\n",
    "track_viz_udf.value_fn(viz_state)"
   ]
  },
  {
   "cell_type": "code",
   "execution_count": null,
   "id": "952d457b",
   "metadata": {},
   "outputs": [],
   "source": []
  }
 ],
 "metadata": {
  "kernelspec": {
   "display_name": "Python 3 (ipykernel)",
   "language": "python",
   "name": "python3"
  },
  "language_info": {
   "codemirror_mode": {
    "name": "ipython",
    "version": 3
   },
   "file_extension": ".py",
   "mimetype": "text/x-python",
   "name": "python",
   "nbconvert_exporter": "python",
   "pygments_lexer": "ipython3",
   "version": "3.9.16"
  }
 },
 "nbformat": 4,
 "nbformat_minor": 5
}
