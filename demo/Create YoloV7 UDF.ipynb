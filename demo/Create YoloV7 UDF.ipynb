{
 "cells": [
  {
   "cell_type": "markdown",
   "id": "1bc080fe",
   "metadata": {},
   "source": [
    "## This adapts the scripts in https://github.com/RizwanMunawar/yolov7-object-tracking for Pixeltable and should be run in the environment created for that repo."
   ]
  },
  {
   "cell_type": "code",
   "execution_count": null,
   "id": "d1bb4fae",
   "metadata": {},
   "outputs": [],
   "source": [
    "import models, utils\n",
    "from models.experimental import attempt_load\n",
    "from utils.torch_utils import select_device\n",
    "from utils.general import non_max_suppression"
   ]
  },
  {
   "cell_type": "code",
   "execution_count": null,
   "id": "b936a6fe",
   "metadata": {},
   "outputs": [],
   "source": [
    "weights_file_name = 'yolov7.pt'\n",
    "device = select_device('')"
   ]
  },
  {
   "cell_type": "code",
   "execution_count": null,
   "id": "bd8ce25f",
   "metadata": {},
   "outputs": [],
   "source": [
    "model = attempt_load(weights_file_name, map_location=device)  # load FP32 model"
   ]
  },
  {
   "cell_type": "markdown",
   "id": "9ff9a5c3",
   "metadata": {},
   "source": [
    "## detect() takes a PIL.Image and returns a numpy array of detections\n",
    "Each detection is a numpy array of 6 floats, containing\n",
    "* the bounding box (as xyxy)\n",
    "* the confidence\n",
    "* the class"
   ]
  },
  {
   "cell_type": "code",
   "execution_count": null,
   "id": "baaaf957",
   "metadata": {},
   "outputs": [],
   "source": [
    "def detect(img):\n",
    "    expected_img_size = 640  # required by model\n",
    "    # resize img to expected size while maintaining aspect ratio\n",
    "    resize_ratio = min(expected_img_size / img.width, expected_img_size / img.height)\n",
    "    new_width = int(resize_ratio * img.width)\n",
    "    new_height = int(resize_ratio * img.height)\n",
    "    img = img.resize((new_width, new_height))\n",
    "    \n",
    "    img_tensor = torchvision.transforms.functional.pil_to_tensor(img) / 255.0\n",
    "    # turn into batch of 1\n",
    "    img_tensor = img_tensor.unsqueeze(0)\n",
    "\n",
    "    model_output = model(img_tensor)\n",
    "    pred = model_output[0]\n",
    "    pred = non_max_suppression(pred)\n",
    "    detections = pred[0].numpy(force=True)\n",
    "    detections[:, :4] /= resize_ratio  # convert to original image size\n",
    "    return detections"
   ]
  },
  {
   "cell_type": "markdown",
   "id": "bbe84f31",
   "metadata": {},
   "source": [
    "# Store detect() in Pixeltable as a UDF"
   ]
  },
  {
   "cell_type": "code",
   "execution_count": null,
   "id": "d20a6529",
   "metadata": {},
   "outputs": [],
   "source": [
    "import sys\n",
    "sys.path.append('/home/marcel/pixeltable')\n",
    "\n",
    "import pixeltable as pt\n",
    "from pixeltable.function import Function\n",
    "from pixeltable.type_system import ArrayType, ImageType, ColumnType\n",
    "\n",
    "cl = pt.Client()\n",
    "db = cl.get_db('functions')"
   ]
  },
  {
   "cell_type": "code",
   "execution_count": null,
   "id": "19034598",
   "metadata": {},
   "outputs": [],
   "source": [
    "yolov7_udf = Function(ArrayType((None, 6), dtype=ColumnType.Type.FLOAT), [ImageType()], eval_fn=detect)\n",
    "\n",
    "db.create_function('yolo.yolov7', yolov7_udf)"
   ]
  },
  {
   "cell_type": "markdown",
   "id": "d8f12fe5",
   "metadata": {},
   "source": [
    "### We're loading it back from Pixeltable to show that it worked\n",
    "\n",
    "We're starting with a fresh client."
   ]
  },
  {
   "cell_type": "code",
   "execution_count": null,
   "id": "013bd01c",
   "metadata": {},
   "outputs": [],
   "source": [
    "cl = pt.Client()\n",
    "db = cl.get_db('functions')\n",
    "yolov7_udf = db.load_function('yolo.yolov7')"
   ]
  },
  {
   "cell_type": "code",
   "execution_count": null,
   "id": "944006df",
   "metadata": {},
   "outputs": [],
   "source": [
    "img_file_path = '/home/marcel/pixeltable/pixeltable/tests/data/imagenette2-160/n03445777_2563.JPEG'\n",
    "img = PIL.Image.open(img_file)"
   ]
  },
  {
   "cell_type": "code",
   "execution_count": null,
   "id": "350cbc5c",
   "metadata": {},
   "outputs": [],
   "source": [
    "detections = yolov7_udf.eval_fn(img)\n",
    "detections"
   ]
  }
 ],
 "metadata": {
  "kernelspec": {
   "display_name": "Python 3 (ipykernel)",
   "language": "python",
   "name": "python3"
  },
  "language_info": {
   "codemirror_mode": {
    "name": "ipython",
    "version": 3
   },
   "file_extension": ".py",
   "mimetype": "text/x-python",
   "name": "python",
   "nbconvert_exporter": "python",
   "pygments_lexer": "ipython3",
   "version": "3.9.16"
  }
 },
 "nbformat": 4,
 "nbformat_minor": 5
}
