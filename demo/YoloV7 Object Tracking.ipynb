{
 "cells": [
  {
   "cell_type": "markdown",
   "id": "e2e93af9",
   "metadata": {},
   "source": [
    "# Object Tracking with YoloV7 and Pixeltable"
   ]
  },
  {
   "cell_type": "code",
   "execution_count": null,
   "id": "5c33757b",
   "metadata": {},
   "outputs": [],
   "source": [
    "import sys, glob\n",
    "import pandas as pd\n",
    "import numpy as np\n",
    "sys.path.append('/home/marcel/pixeltable')\n",
    "import PIL"
   ]
  },
  {
   "cell_type": "code",
   "execution_count": null,
   "id": "74221d19",
   "metadata": {},
   "outputs": [],
   "source": [
    "import pixeltable as pt\n",
    "from pixeltable import catalog\n",
    "from pixeltable.type_system import ImageType, VideoType, StringType, IntType, ArrayType, ColumnType\n",
    "from pixeltable.functions.pil import draw_boxes\n",
    "%load_ext autoreload\n",
    "%autoreload 2"
   ]
  },
  {
   "cell_type": "markdown",
   "id": "c6db1b65",
   "metadata": {},
   "source": [
    "We're loading the function in order to use it for a computed column. Note that we don't need to import the packages we needed to create the model in the first place."
   ]
  },
  {
   "cell_type": "code",
   "execution_count": null,
   "id": "d2d7cacf",
   "metadata": {},
   "outputs": [],
   "source": [
    "cl = pt.Client()\n",
    "functions_db = cl.get_db('functions')\n",
    "yolov7 = functions_db.load_function('yolov7')"
   ]
  },
  {
   "cell_type": "markdown",
   "id": "37a6f087",
   "metadata": {},
   "source": [
    "Sanity check"
   ]
  },
  {
   "cell_type": "code",
   "execution_count": null,
   "id": "5dc7328a",
   "metadata": {},
   "outputs": [],
   "source": [
    "img_file = '/home/marcel/pixeltable/pixeltable/tests/data/imagenette2-160/n03445777_2563.JPEG'\n",
    "img = PIL.Image.open(img_file)\n",
    "\n",
    "print(img.size)\n",
    "display(img)"
   ]
  },
  {
   "cell_type": "code",
   "execution_count": null,
   "id": "a06fe29b",
   "metadata": {},
   "outputs": [],
   "source": [
    "yolov7.eval_fn(img)"
   ]
  },
  {
   "cell_type": "markdown",
   "id": "0b60068f",
   "metadata": {},
   "source": [
    "We're now creating database `videos` for our video data."
   ]
  },
  {
   "cell_type": "code",
   "execution_count": null,
   "id": "69685e34",
   "metadata": {},
   "outputs": [],
   "source": [
    "try:\n",
    "    videos = cl.get_db('videos')\n",
    "except:\n",
    "    videos = cl.create_db('videos')"
   ]
  },
  {
   "cell_type": "markdown",
   "id": "497c2ca3",
   "metadata": {},
   "source": [
    "The videos and their frames will be stored in a table `data`. Initially it only contains the path to the video file, the frame, and the frame sequence number (within the video)."
   ]
  },
  {
   "cell_type": "code",
   "execution_count": null,
   "id": "9039587f",
   "metadata": {},
   "outputs": [],
   "source": [
    "videos.drop_table('data', ignore_errors=True)\n",
    "t = videos.create_table('data', [\n",
    "    catalog.Column('video', VideoType(), nullable=False),\n",
    "    catalog.Column('frame', ImageType(), nullable=False, indexed=False),\n",
    "    catalog.Column('frame_idx', IntType(), nullable=False),\n",
    "])"
   ]
  },
  {
   "cell_type": "markdown",
   "id": "07f96e05",
   "metadata": {},
   "source": [
    "We're using a few short sample videos for the demo."
   ]
  },
  {
   "cell_type": "code",
   "execution_count": null,
   "id": "5db21530",
   "metadata": {},
   "outputs": [],
   "source": [
    "video_filepaths = glob.glob(f'./**/*.mp4', recursive=True)\n",
    "video_filepaths = [os.path.abspath(p) for p in video_filepaths]\n",
    "video_filepaths"
   ]
  },
  {
   "cell_type": "markdown",
   "id": "ce07ebbb",
   "metadata": {},
   "source": [
    "We \"load\" the data by supplying the file paths for the video files.\n",
    "- The `video_column` argument instructs Pixeltable to treat that data as video files from which to extract frames.\n",
    "- Each input row, corresponding to one video, is expanded into one row per frame (subject to the requested frame rate, in this case 1 fps).\n",
    "- Each frame is extract to a JPEG file that is stored in the Pixeltable home directory.\n",
    "- The columns `frame` and `frame_idx` receive the frame file path and frame sequence number, respectively."
   ]
  },
  {
   "cell_type": "code",
   "execution_count": null,
   "id": "593a256c",
   "metadata": {},
   "outputs": [],
   "source": [
    "df = pd.DataFrame({'video': video_filepaths[1:2]})\n",
    "t.insert_pandas(df, video_column='video', frame_column='frame', frame_idx_column='frame_idx', fps=1)"
   ]
  },
  {
   "cell_type": "markdown",
   "id": "2ad6344e",
   "metadata": {},
   "source": [
    "We loaded frames of an intersection in Bangkok."
   ]
  },
  {
   "cell_type": "code",
   "execution_count": null,
   "id": "ad730362",
   "metadata": {},
   "outputs": [],
   "source": [
    "t[t.video, t.frame, t.frame_idx, t.frame.width, t.frame.height].show(2)"
   ]
  },
  {
   "cell_type": "markdown",
   "id": "caf4b688",
   "metadata": {},
   "source": [
    "The same with detections:"
   ]
  },
  {
   "cell_type": "code",
   "execution_count": null,
   "id": "baffc30f",
   "metadata": {},
   "outputs": [],
   "source": [
    "t[t.frame, yolov7(t.frame)].show(2)"
   ]
  },
  {
   "cell_type": "markdown",
   "id": "e7590f16",
   "metadata": {},
   "source": [
    "We're happy with the result and decide to add detections to the table. Running `yolov7()` is an expensive operation and adding it as a computed column makes the detections part of the stored table data."
   ]
  },
  {
   "cell_type": "code",
   "execution_count": null,
   "id": "75535b06",
   "metadata": {
    "scrolled": false
   },
   "outputs": [],
   "source": [
    "t.add_column(catalog.Column('detections', computed_with=yolov7(t.frame)))"
   ]
  },
  {
   "cell_type": "code",
   "execution_count": null,
   "id": "f039fe5c",
   "metadata": {
    "scrolled": false
   },
   "outputs": [],
   "source": [
    "t[t.frame, t.detections].show(2)"
   ]
  },
  {
   "cell_type": "markdown",
   "id": "527f1b61",
   "metadata": {},
   "source": [
    "We can call the built-in function `draw()` to draw the bounding boxes onto the frames.\n",
    "\n",
    "The `detections` column is an array column, which supports the standard slicing operations. In this case, each detection contains the bounding box plus the confidence and class number. For `draw()`, we need to create a slice containing only the bounding boxes."
   ]
  },
  {
   "cell_type": "code",
   "execution_count": null,
   "id": "6c49370f",
   "metadata": {
    "scrolled": false
   },
   "outputs": [],
   "source": [
    "t[t.frame, draw_boxes(t.frame, t.detections[:, :4])].show(10)"
   ]
  },
  {
   "cell_type": "code",
   "execution_count": null,
   "id": "96cda0a4",
   "metadata": {},
   "outputs": [],
   "source": []
  }
 ],
 "metadata": {
  "kernelspec": {
   "display_name": "Python 3 (ipykernel)",
   "language": "python",
   "name": "python3"
  },
  "language_info": {
   "codemirror_mode": {
    "name": "ipython",
    "version": 3
   },
   "file_extension": ".py",
   "mimetype": "text/x-python",
   "name": "python",
   "nbconvert_exporter": "python",
   "pygments_lexer": "ipython3",
   "version": "3.9.16"
  }
 },
 "nbformat": 4,
 "nbformat_minor": 5
}
