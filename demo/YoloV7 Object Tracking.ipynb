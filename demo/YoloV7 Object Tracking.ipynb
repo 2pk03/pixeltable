{
 "cells": [
  {
   "cell_type": "markdown",
   "id": "e2e93af9",
   "metadata": {},
   "source": [
    "# Object Tracking with YoloV7 and Pixeltable"
   ]
  },
  {
   "cell_type": "code",
   "execution_count": null,
   "id": "5c33757b",
   "metadata": {},
   "outputs": [],
   "source": [
    "import sys, glob, os\n",
    "import pandas as pd\n",
    "import numpy as np\n",
    "sys.path.append('/home/marcel/pixeltable')\n",
    "import PIL"
   ]
  },
  {
   "cell_type": "code",
   "execution_count": null,
   "id": "74221d19",
   "metadata": {},
   "outputs": [],
   "source": [
    "import pixeltable as pt\n",
    "from pixeltable import catalog\n",
    "from pixeltable.type_system import ImageType, VideoType, StringType, IntType, ArrayType, ColumnType\n",
    "from pixeltable.functions.pil import draw_boxes\n",
    "from pixeltable.functions import make_video\n",
    "from pixeltable.function import FunctionRegistry\n",
    "%load_ext autoreload\n",
    "%autoreload 2"
   ]
  },
  {
   "cell_type": "markdown",
   "id": "c6db1b65",
   "metadata": {},
   "source": [
    "We're loading the function in order to use it for a computed column. Note that we don't need to import the packages we needed to create the model in the first place."
   ]
  },
  {
   "cell_type": "code",
   "execution_count": null,
   "id": "d2d7cacf",
   "metadata": {},
   "outputs": [],
   "source": [
    "cl = pt.Client()\n",
    "functions_db = cl.get_db('functions')\n",
    "yolov7 = functions_db.load_function('yolov7')\n",
    "sort_track = functions_db.load_function('sort_track')"
   ]
  },
  {
   "cell_type": "markdown",
   "id": "37a6f087",
   "metadata": {},
   "source": [
    "Sanity check"
   ]
  },
  {
   "cell_type": "code",
   "execution_count": null,
   "id": "5dc7328a",
   "metadata": {},
   "outputs": [],
   "source": [
    "#img_file = '/home/marcel/pixeltable/pixeltable/tests/data/imagenette2-160/n03445777_2563.JPEG'\n",
    "img_file = '/home/marcel/pixeltable/pixeltable/tests/data/imagenette2-160/n03888257_50622.JPEG'\n",
    "img = PIL.Image.open(img_file)\n",
    "\n",
    "print(img.size)\n",
    "display(img)"
   ]
  },
  {
   "cell_type": "code",
   "execution_count": null,
   "id": "a06fe29b",
   "metadata": {},
   "outputs": [],
   "source": [
    "detection = yolov7.eval_fn(img)\n",
    "detection"
   ]
  },
  {
   "cell_type": "code",
   "execution_count": null,
   "id": "8b6fdd0b",
   "metadata": {},
   "outputs": [],
   "source": [
    "state = sort_track.init_fn()\n",
    "sort_track.update_fn(state, detection)\n",
    "sort_track.value_fn(state)"
   ]
  },
  {
   "cell_type": "markdown",
   "id": "0b60068f",
   "metadata": {},
   "source": [
    "We're now creating database `videos` for our video data."
   ]
  },
  {
   "cell_type": "code",
   "execution_count": null,
   "id": "69685e34",
   "metadata": {},
   "outputs": [],
   "source": [
    "try:\n",
    "    videos = cl.get_db('videos')\n",
    "except:\n",
    "    videos = cl.create_db('videos')"
   ]
  },
  {
   "cell_type": "markdown",
   "id": "497c2ca3",
   "metadata": {},
   "source": [
    "The videos and their frames will be stored in a table `data`. Initially it only contains the path to the video file, the frame, and the frame sequence number (within the video)."
   ]
  },
  {
   "cell_type": "code",
   "execution_count": null,
   "id": "9039587f",
   "metadata": {},
   "outputs": [],
   "source": [
    "videos.drop_table('test_data', ignore_errors=True)\n",
    "cols = [\n",
    "    catalog.Column('video', VideoType(), nullable=False),\n",
    "    catalog.Column('frame', ImageType(), nullable=False),\n",
    "    catalog.Column('frame_idx', IntType(), nullable=False),\n",
    "]\n",
    "t = videos.create_table(\n",
    "    'test_data', cols,\n",
    "    extract_frames_from='video', extracted_frame_col='frame', extracted_frame_idx_col='frame_idx',\n",
    "    extracted_fps=1)"
   ]
  },
  {
   "cell_type": "markdown",
   "id": "07f96e05",
   "metadata": {},
   "source": [
    "We're using a few short sample videos for the demo."
   ]
  },
  {
   "cell_type": "code",
   "execution_count": null,
   "id": "5db21530",
   "metadata": {},
   "outputs": [],
   "source": [
    "video_filepaths = glob.glob(f'/home/marcel/pixeltable-demo/videos/*.mp4', recursive=True)\n",
    "video_filepaths = [os.path.abspath(p) for p in video_filepaths]\n",
    "video_filepaths"
   ]
  },
  {
   "cell_type": "markdown",
   "id": "ce07ebbb",
   "metadata": {},
   "source": [
    "We \"load\" the data by supplying the file paths for the video files.\n",
    "- The `video_column` argument instructs Pixeltable to treat that data as video files from which to extract frames.\n",
    "- Each input row, corresponding to one video, is expanded into one row per frame (subject to the requested frame rate, in this case 1 fps).\n",
    "- Each frame is extract to a JPEG file that is stored in the Pixeltable home directory.\n",
    "- The columns `frame` and `frame_idx` receive the frame file path and frame sequence number, respectively."
   ]
  },
  {
   "cell_type": "code",
   "execution_count": null,
   "id": "593a256c",
   "metadata": {
    "scrolled": false
   },
   "outputs": [],
   "source": [
    "t.insert_rows([[video_filepaths[1]]], columns=['video'])"
   ]
  },
  {
   "cell_type": "markdown",
   "id": "2ad6344e",
   "metadata": {},
   "source": [
    "We loaded frames of an intersection in Bangkok."
   ]
  },
  {
   "cell_type": "code",
   "execution_count": null,
   "id": "ad730362",
   "metadata": {
    "scrolled": false
   },
   "outputs": [],
   "source": [
    "t[t.frame, t.frame_idx, t.frame.width, t.frame.height].show(1)"
   ]
  },
  {
   "cell_type": "markdown",
   "id": "caf4b688",
   "metadata": {},
   "source": [
    "The same with detections:"
   ]
  },
  {
   "cell_type": "code",
   "execution_count": null,
   "id": "baffc30f",
   "metadata": {},
   "outputs": [],
   "source": [
    "t[t.frame, yolov7(t.frame)].show(1)"
   ]
  },
  {
   "cell_type": "markdown",
   "id": "165badd5",
   "metadata": {},
   "source": [
    "# Tracking\n",
    "\n",
    "For tracking, we call the `sort_track` function with a `window()` clause that states that we want to track per-video, and in frame index (chronological) order."
   ]
  },
  {
   "cell_type": "code",
   "execution_count": null,
   "id": "6eb182fe",
   "metadata": {
    "scrolled": true
   },
   "outputs": [],
   "source": [
    "t[t.frame,\n",
    "  yolov7(t.frame),\n",
    "  sort_track(yolov7(t.frame)).window(partition_by=t.video, order_by=t.frame_idx)].show(1)"
   ]
  },
  {
   "cell_type": "markdown",
   "id": "e7590f16",
   "metadata": {},
   "source": [
    "We're happy with the result and decide to add detections and tracking results to the table. Running `yolov7()` is an expensive operation and adding it as a computed column caches the detections and makes them available as part of the stored table data."
   ]
  },
  {
   "cell_type": "code",
   "execution_count": null,
   "id": "ddac2028",
   "metadata": {
    "scrolled": false
   },
   "outputs": [],
   "source": [
    "t.add_column(catalog.Column('detections', computed_with=yolov7(t.frame)))"
   ]
  },
  {
   "cell_type": "code",
   "execution_count": null,
   "id": "75535b06",
   "metadata": {
    "scrolled": false
   },
   "outputs": [],
   "source": [
    "t.add_column(\n",
    "    catalog.Column(\n",
    "        'tracked_objs',\n",
    "        computed_with=sort_track(t.detections).window(partition_by=t.video, order_by=t.frame_idx)))"
   ]
  },
  {
   "cell_type": "code",
   "execution_count": null,
   "id": "f039fe5c",
   "metadata": {
    "scrolled": true
   },
   "outputs": [],
   "source": [
    "t[t.frame, t.detections, t.tracked_objs].show(2)"
   ]
  },
  {
   "cell_type": "markdown",
   "id": "f8476b7f",
   "metadata": {},
   "source": [
    "The `tracked_objs` column contains JSON, and we can use standard JSON path expressions to select whichever elements are needed:"
   ]
  },
  {
   "cell_type": "code",
   "execution_count": null,
   "id": "76390b9e",
   "metadata": {
    "scrolled": true
   },
   "outputs": [],
   "source": [
    "t[t.frame, t.detections, t.tracked_objs['*'].bbox].show(2)"
   ]
  },
  {
   "cell_type": "markdown",
   "id": "561a1396",
   "metadata": {},
   "source": [
    "# Visualization\n",
    "\n",
    "We'll now use the previously created function `track_viz` to visualize the tracking data. As with the `sort_track` function, this is also a windowed function that creates a new image for every frame of a video, in chronological order."
   ]
  },
  {
   "cell_type": "code",
   "execution_count": null,
   "id": "fc11dad3",
   "metadata": {},
   "outputs": [],
   "source": [
    "track_viz = functions_db.load_function('track_viz')"
   ]
  },
  {
   "cell_type": "code",
   "execution_count": null,
   "id": "0495f41d",
   "metadata": {
    "scrolled": false
   },
   "outputs": [],
   "source": [
    "t[t.frame,\n",
    "  track_viz(t.frame, t.tracked_objs['*'].bbox, t.tracked_objs['*'].id)\n",
    "      .window(partition_by=t.video, order_by=t.frame_idx)\n",
    " ].show(2)"
   ]
  },
  {
   "cell_type": "markdown",
   "id": "84852f4e",
   "metadata": {},
   "source": [
    "We're happy with the result, and again we add it to the table:"
   ]
  },
  {
   "cell_type": "code",
   "execution_count": null,
   "id": "96cda0a4",
   "metadata": {},
   "outputs": [],
   "source": [
    "t.add_column(\n",
    "    catalog.Column(\n",
    "        'tracking_viz',\n",
    "        computed_with=track_viz(t.frame, t.tracked_objs['*'].bbox, t.tracked_objs['*'].id)\n",
    "            .window(partition_by=t.video, order_by=t.frame_idx)))"
   ]
  },
  {
   "cell_type": "code",
   "execution_count": null,
   "id": "b626f1d8",
   "metadata": {},
   "outputs": [],
   "source": [
    "t[t.frame, t.tracking_viz].show(2)"
   ]
  },
  {
   "cell_type": "markdown",
   "id": "2cd01e2d",
   "metadata": {},
   "source": [
    "# Reassembling frames into a video\n",
    "\n",
    "Now that we convinced ourselves that detection and visualization work as expected, let's apply it at the full frame rate and turn the visualizations back into a video."
   ]
  },
  {
   "cell_type": "code",
   "execution_count": null,
   "id": "938e516d",
   "metadata": {},
   "outputs": [],
   "source": [
    "videos.drop_table('data', ignore_errors=True)"
   ]
  },
  {
   "cell_type": "code",
   "execution_count": null,
   "id": "5dde0b21",
   "metadata": {},
   "outputs": [],
   "source": [
    "try:\n",
    "    t = videos.get_table('data')\n",
    "except:\n",
    "    cols = [\n",
    "        catalog.Column('video', VideoType(), nullable=False),\n",
    "        catalog.Column('frame', ImageType(), nullable=False, indexed=False),\n",
    "        catalog.Column('frame_idx', IntType(), nullable=False),\n",
    "    ]\n",
    "    t = videos.create_table(\n",
    "        'data', cols,\n",
    "        extract_frames_from='video', extracted_frame_col='frame', extracted_frame_idx_col='frame_idx',\n",
    "        extracted_fps=0)\n",
    "\n",
    "    t.add_column(catalog.Column('detections', computed_with=yolov7(t.frame)))\n",
    "    t.add_column(kj[name for name in dir(img) if not callable(getattr(img, name)) and not name.startswith('_')]\n",
    "        catalog.Column(\n",
    "            'tracked_objs',\n",
    "            computed_with=sort_track(t.detections).window(partition_by=t.video, order_by=t.frame_idx)))\n",
    "    t.add_column(\n",
    "        catalog.Column(\n",
    "            'tracking_viz',\n",
    "            computed_with=track_viz(t.frame, t.tracked_objs['*'].bbox, t.tracked_objs['*'].id)\n",
    "                .window(partition_by=t.video, order_by=t.frame_idx)))\n",
    "\n",
    "    df = pd.DataFrame({'video': [video_filepaths[1]]})\n",
    "    t.insert_rows([[video_filepaths[1]]], columns=['video'])"
   ]
  },
  {
   "cell_type": "code",
   "execution_count": null,
   "id": "05167567",
   "metadata": {
    "scrolled": false
   },
   "outputs": [],
   "source": [
    "t[t.frame_idx == 200][t.frame, t.tracking_viz].show(20)"
   ]
  },
  {
   "cell_type": "code",
   "execution_count": null,
   "id": "83a75efc",
   "metadata": {
    "scrolled": false
   },
   "outputs": [],
   "source": [
    "result = t[make_video(t.frame_idx, t.tracking_viz)].group_by(t.video).show()"
   ]
  },
  {
   "cell_type": "code",
   "execution_count": null,
   "id": "e1fdec06",
   "metadata": {},
   "outputs": [],
   "source": [
    "result"
   ]
  },
  {
   "cell_type": "code",
   "execution_count": null,
   "id": "2ea17604",
   "metadata": {},
   "outputs": [],
   "source": []
  }
 ],
 "metadata": {
  "kernelspec": {
   "display_name": "Python 3 (ipykernel)",
   "language": "python",
   "name": "python3"
  },
  "language_info": {
   "codemirror_mode": {
    "name": "ipython",
    "version": 3
   },
   "file_extension": ".py",
   "mimetype": "text/x-python",
   "name": "python",
   "nbconvert_exporter": "python",
   "pygments_lexer": "ipython3",
   "version": "3.9.16"
  }
 },
 "nbformat": 4,
 "nbformat_minor": 5
}
