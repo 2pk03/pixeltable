{
 "cells": [
  {
   "cell_type": "markdown",
   "id": "e2e93af9",
   "metadata": {},
   "source": [
    "# Object Tracking with YoloV7 and Pixeltable"
   ]
  },
  {
   "cell_type": "code",
   "execution_count": null,
   "id": "5c33757b",
   "metadata": {},
   "outputs": [],
   "source": [
    "import sys, glob\n",
    "import pandas as pd\n",
    "import numpy as np\n",
    "sys.path.append('/home/marcel/pixeltable')\n",
    "import PIL"
   ]
  },
  {
   "cell_type": "code",
   "execution_count": null,
   "id": "74221d19",
   "metadata": {},
   "outputs": [],
   "source": [
    "import pixeltable as pt\n",
    "from pixeltable import catalog\n",
    "from pixeltable.type_system import ImageType, StringType, IntType, ArrayType, ColumnType\n",
    "from pixeltable.functions.pil import draw_boxes\n",
    "%load_ext autoreload\n",
    "%autoreload 2"
   ]
  },
  {
   "cell_type": "markdown",
   "id": "c6db1b65",
   "metadata": {},
   "source": [
    "We're loading the function in order to use it for a computed column. Note that we don't need to import the packages we needed to create the model in the first place."
   ]
  },
  {
   "cell_type": "code",
   "execution_count": null,
   "id": "d2d7cacf",
   "metadata": {},
   "outputs": [],
   "source": [
    "cl = pt.Client()\n",
    "functions_db = cl.get_db('functions')\n",
    "yolov7 = functions_db.load_function('yolov7')"
   ]
  },
  {
   "cell_type": "markdown",
   "id": "37a6f087",
   "metadata": {},
   "source": [
    "Sanity check"
   ]
  },
  {
   "cell_type": "code",
   "execution_count": null,
   "id": "5dc7328a",
   "metadata": {},
   "outputs": [],
   "source": [
    "img_file = '/home/marcel/pixeltable/pixeltable/tests/data/imagenette2-160/n03445777_2563.JPEG'\n",
    "img = PIL.Image.open(img_file)\n",
    "\n",
    "print(img.size)\n",
    "display(img)"
   ]
  },
  {
   "cell_type": "code",
   "execution_count": null,
   "id": "a06fe29b",
   "metadata": {},
   "outputs": [],
   "source": [
    "yolov7.eval_fn(img)"
   ]
  },
  {
   "cell_type": "code",
   "execution_count": null,
   "id": "de481869",
   "metadata": {},
   "outputs": [],
   "source": [
    "videos = cl.get_db('videos')\n",
    "data = videos.get_table('data')\n",
    "\n",
    "data[data.frame, data.frame.height, data.frame.width, yolov7(data.frame)].show(5)"
   ]
  },
  {
   "cell_type": "code",
   "execution_count": null,
   "id": "9039587f",
   "metadata": {},
   "outputs": [],
   "source": [
    "videos.drop_table('data2', ignore_errors=True)\n",
    "t = videos.create_table('data2', [\n",
    "    catalog.Column('video_file', StringType(), nullable=False),\n",
    "    catalog.Column('frame', ImageType(), nullable=False, indexed=False),\n",
    "    catalog.Column('frame_idx', IntType(), nullable=False),\n",
    "])"
   ]
  },
  {
   "cell_type": "code",
   "execution_count": null,
   "id": "235e45eb",
   "metadata": {
    "scrolled": false
   },
   "outputs": [],
   "source": [
    "t.add_column(catalog.Column('detections', computed_with=yolov7(t.frame)))"
   ]
  },
  {
   "cell_type": "code",
   "execution_count": null,
   "id": "593a256c",
   "metadata": {},
   "outputs": [],
   "source": [
    "video_filepaths = glob.glob(f'/home/marcel/pixeltable/**/videos/*.mp4', recursive=True)\n",
    "\n",
    "df = pd.DataFrame({'video_file': video_filepaths[1:2]})\n",
    "\n",
    "t.insert_pandas(df, video_column='video_file', frame_column='frame', frame_idx_column='frame_idx', fps=1)"
   ]
  },
  {
   "cell_type": "code",
   "execution_count": null,
   "id": "f039fe5c",
   "metadata": {
    "scrolled": false
   },
   "outputs": [],
   "source": [
    "t[t.frame, draw_boxes(t.frame, t.detections)].show(10)"
   ]
  },
  {
   "cell_type": "code",
   "execution_count": null,
   "id": "c3d7fa65",
   "metadata": {},
   "outputs": [],
   "source": []
  }
 ],
 "metadata": {
  "kernelspec": {
   "display_name": "Python 3 (ipykernel)",
   "language": "python",
   "name": "python3"
  },
  "language_info": {
   "codemirror_mode": {
    "name": "ipython",
    "version": 3
   },
   "file_extension": ".py",
   "mimetype": "text/x-python",
   "name": "python",
   "nbconvert_exporter": "python",
   "pygments_lexer": "ipython3",
   "version": "3.9.16"
  }
 },
 "nbformat": 4,
 "nbformat_minor": 5
}
