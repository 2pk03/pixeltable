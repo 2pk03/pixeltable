{
 "cells": [
  {
   "cell_type": "code",
   "execution_count": null,
   "id": "a2f92b6c",
   "metadata": {},
   "outputs": [],
   "source": [
    "import sys\n",
    "sys.path.append('/home/marcel/pixeltable')\n",
    "\n",
    "import tensorflow as tf\n",
    "\n",
    "import pixeltable as pt\n",
    "from pixeltable.type_system import ImageType\n",
    "import pixeltable.functions.pil.image as pil\n",
    "from pixeltable.functions import dict_map\n",
    "import pixeltable.tf\n",
    "from pixeltable.functions.tf import TFModelFunction\n",
    "\n",
    "%load_ext autoreload\n",
    "%autoreload 2"
   ]
  },
  {
   "cell_type": "code",
   "execution_count": null,
   "id": "34c26d31",
   "metadata": {},
   "outputs": [],
   "source": [
    "cl = pt.Client()\n",
    "db = cl.get_db('imagenette')\n",
    "t = db.get_table('data')"
   ]
  },
  {
   "cell_type": "code",
   "execution_count": null,
   "id": "6915ff73",
   "metadata": {},
   "outputs": [],
   "source": [
    "t.count()"
   ]
  },
  {
   "cell_type": "code",
   "execution_count": null,
   "id": "7bf8783e",
   "metadata": {
    "scrolled": true
   },
   "outputs": [],
   "source": [
    "t.show()"
   ]
  },
  {
   "cell_type": "markdown",
   "id": "ff52615b",
   "metadata": {},
   "source": [
    "# Queries"
   ]
  },
  {
   "cell_type": "code",
   "execution_count": null,
   "id": "ba8f6499",
   "metadata": {
    "scrolled": true
   },
   "outputs": [],
   "source": [
    "t[t.category == 'n03394916'][[t.img, t.img.rotate(90)]].show()"
   ]
  },
  {
   "cell_type": "code",
   "execution_count": null,
   "id": "2bfc8c8d",
   "metadata": {
    "scrolled": true
   },
   "outputs": [],
   "source": [
    "t[(t.split == 'val') & (t.category >= 'n03445777') & (t.img.height > 100)][\n",
    "    t.img,\n",
    "    t.img.rotate(90),\n",
    "    pil.blend(t.img, t.img.rotate(90), 0.5),\n",
    "    t.img.height, t.img.width\n",
    "].show()"
   ]
  },
  {
   "cell_type": "markdown",
   "id": "cdce44f4",
   "metadata": {},
   "source": [
    "### image similarity search"
   ]
  },
  {
   "cell_type": "code",
   "execution_count": null,
   "id": "6b0fca6b",
   "metadata": {
    "scrolled": true
   },
   "outputs": [],
   "source": [
    "img_sample = t[t.img].show(1)[0, 0]"
   ]
  },
  {
   "cell_type": "code",
   "execution_count": null,
   "id": "f7a3caf6",
   "metadata": {
    "scrolled": true
   },
   "outputs": [],
   "source": [
    "t[t.img.nearest(img_sample)].show()"
   ]
  },
  {
   "cell_type": "markdown",
   "id": "0cbbc8da",
   "metadata": {},
   "source": [
    "### keyword search"
   ]
  },
  {
   "cell_type": "code",
   "execution_count": null,
   "id": "b6994ce4",
   "metadata": {
    "scrolled": true
   },
   "outputs": [],
   "source": [
    "t[t.img.matches('door')].show()"
   ]
  },
  {
   "cell_type": "markdown",
   "id": "a20ea26c",
   "metadata": {},
   "source": [
    "# Tensorflow"
   ]
  },
  {
   "cell_type": "markdown",
   "id": "71af2628",
   "metadata": {},
   "source": [
    "### convert label to int"
   ]
  },
  {
   "cell_type": "code",
   "execution_count": null,
   "id": "59eed807",
   "metadata": {},
   "outputs": [],
   "source": [
    "m = t[t.category].categorical_map()\n",
    "m"
   ]
  },
  {
   "cell_type": "code",
   "execution_count": null,
   "id": "2552b14d",
   "metadata": {},
   "outputs": [],
   "source": [
    "df = t[t.img.convert('RGB').resize((224, 224)), dict_map(t.category, m)]\n",
    "df.show(1)"
   ]
  },
  {
   "cell_type": "markdown",
   "id": "d0437d78",
   "metadata": {},
   "source": [
    "### access DataFrame as tf.data.Dataset"
   ]
  },
  {
   "cell_type": "code",
   "execution_count": null,
   "id": "9aba1380",
   "metadata": {},
   "outputs": [],
   "source": [
    "ds = pixeltable.tf.to_dataset(df)\n",
    "ds"
   ]
  },
  {
   "cell_type": "code",
   "execution_count": null,
   "id": "ae3128e0",
   "metadata": {
    "scrolled": true
   },
   "outputs": [],
   "source": [
    "for elem in ds.take(1):\n",
    "    print(elem)"
   ]
  },
  {
   "cell_type": "markdown",
   "id": "c407ac3c",
   "metadata": {},
   "source": [
    "### use trained model as UDF"
   ]
  },
  {
   "cell_type": "code",
   "execution_count": null,
   "id": "6679f975",
   "metadata": {},
   "outputs": [],
   "source": [
    "model = tf.keras.applications.resnet50.ResNet50()\n",
    "preprocess = tf.keras.applications.resnet50.preprocess_input\n",
    "model_udf = TFModelFunction(model, ImageType(size=(224, 224), mode=ImageType.Mode.RGB), preprocess=preprocess)"
   ]
  },
  {
   "cell_type": "code",
   "execution_count": null,
   "id": "344fcd5a",
   "metadata": {},
   "outputs": [],
   "source": [
    "result = t[model_udf(t.img)].show(1)"
   ]
  },
  {
   "cell_type": "code",
   "execution_count": null,
   "id": "2818311e",
   "metadata": {
    "scrolled": true
   },
   "outputs": [],
   "source": [
    "type(result[0, 0])"
   ]
  },
  {
   "cell_type": "code",
   "execution_count": null,
   "id": "c98c0686",
   "metadata": {},
   "outputs": [],
   "source": [
    "result[0, 0].shape"
   ]
  },
  {
   "cell_type": "code",
   "execution_count": null,
   "id": "24988d45",
   "metadata": {},
   "outputs": [],
   "source": []
  }
 ],
 "metadata": {
  "kernelspec": {
   "display_name": "Python 3 (ipykernel)",
   "language": "python",
   "name": "python3"
  },
  "language_info": {
   "codemirror_mode": {
    "name": "ipython",
    "version": 3
   },
   "file_extension": ".py",
   "mimetype": "text/x-python",
   "name": "python",
   "nbconvert_exporter": "python",
   "pygments_lexer": "ipython3",
   "version": "3.9.16"
  }
 },
 "nbformat": 4,
 "nbformat_minor": 5
}
